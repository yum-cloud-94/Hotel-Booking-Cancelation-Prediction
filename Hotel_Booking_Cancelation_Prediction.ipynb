{
  "nbformat": 4,
  "nbformat_minor": 0,
  "metadata": {
    "colab": {
      "name": "Hotel Booking Cancelation Prediction.ipynb",
      "provenance": [],
      "collapsed_sections": [
        "0J3xHLe4I4gO",
        "udJB7gUP3PmK",
        "3SEIlgizjS9t",
        "0YAUyI1jmtaO",
        "oPFSBCeNmXly",
        "oE5MIAhbmZu1",
        "URbA0MLlmdF5"
      ],
      "toc_visible": true,
      "authorship_tag": "ABX9TyO/C0V5eD4eveoeaUkrlS29",
      "include_colab_link": true
    },
    "kernelspec": {
      "name": "python3",
      "display_name": "Python 3"
    }
  },
  "cells": [
    {
      "cell_type": "markdown",
      "metadata": {
        "id": "view-in-github",
        "colab_type": "text"
      },
      "source": [
        "<a href=\"https://colab.research.google.com/github/yum-cloud-94/Hotel-Booking-Cancelation-Prediction/blob/master/Hotel_Booking_Cancelation_Prediction.ipynb\" target=\"_parent\"><img src=\"https://colab.research.google.com/assets/colab-badge.svg\" alt=\"Open In Colab\"/></a>"
      ]
    },
    {
      "cell_type": "markdown",
      "metadata": {
        "id": "5IeCABhcXkJ3",
        "colab_type": "text"
      },
      "source": [
        "# Hotel Booking Cancelation Prediction"
      ]
    },
    {
      "cell_type": "markdown",
      "metadata": {
        "id": "Li8e12GugPaT",
        "colab_type": "text"
      },
      "source": [
        "### 변수 설명"
      ]
    },
    {
      "cell_type": "markdown",
      "metadata": {
        "id": "_8mT65EFUAFT",
        "colab_type": "text"
      },
      "source": [
        "\n",
        "*   hotel : Hotel (H1 = Resort Hotel or H2 = City Hotel)\n",
        "*   is_canceled : Value indicating if the booking was canceled (1) or not (0)\n",
        "*   lead_time : Number of days that elapsed between the entering date of the booking into the PMS and the arrival date\n",
        "*   arrival_date_year : Year of arrival date\n",
        "*   arrival_date_month : Month of arrival date\n",
        "*   arrival_date_week_number : Week number of year for arrival date\n",
        "*   arrival_date_day_of_month : Day of arrival date\n",
        "*   stays_in_weekend_nights : Number of weekend nights (Saturday or Sunday) the guest stayed or booked to stay at the hotel\n",
        "*   stays_in_week_nights : Number of week nights (Monday to Friday) the guest stayed or booked to stay at the hotel\n",
        "*   adults : Number of adults\n",
        "*   children : Number of children\n",
        "*   babies : Number of babies\n",
        "*   meal : Type of meal booked. Categories are presented in standard hospitality meal packages: Undefined/SC – no meal package; BB – Bed & Breakfast; HB – Half board (breakfast and one other meal – usually dinner); FB – Full board (breakfast, lunch and dinner)\n",
        "*   country : Country of origin. Categories are represented in the ISO 3155–3:2013 format\n",
        "*   market_segment : Market segment designation. In categories, the term “TA” means “Travel Agents” and “TO” means “Tour Operators”\n",
        "*   distribution_channel : Booking distribution channel. The term “TA” means “Travel Agents” and “TO” means “Tour Operators”\n",
        "*   is_repeated_guestValue : indicating if the booking name was from a repeated guest (1) or not (0)\n",
        "*   previous_cancellations : Number of previous bookings that were cancelled by the customer prior to the current booking\n",
        "*   previous_bookings_not_canceled : Number of previous bookings not cancelled by the customer prior to the current booking\n",
        "*   reserved_room_type : Code of room type reserved. Code is presented instead of designation for anonymity reasons.\n",
        "*   assigned_room_type : Code for the type of room assigned to the booking.\n",
        "*   booking_changes : Number of changes/amendments made to the booking from the moment the booking was entered on the PMS until the moment of check-in or cancellation\n",
        "*   deposit_type : Indication on if the customer made a deposit to guarantee the booking. This variable can assume three categories: No Deposit – no deposit was made; Non Refund – a deposit was made in the value of the total stay cost; Refundable – a deposit was made with a value under the total cost of stay.\n",
        "*   agent : ID of the travel agency that made the booking\n",
        "*   company : ID of the company/entity that made the booking or responsible for paying the booking. ID is presented instead of designation for anonymity reasons\n",
        "*   days_in_waiting_list : Number of days the booking was in the waiting list before it was confirmed to the customer\n",
        "*   customer_type : Type of booking, assuming one of four categories(Contract,Group,Transient,Transient-party)\n",
        "*   adr : Average Daily Rate as defined by dividing the sum of all lodging transactions by the total number of staying nights\n",
        "*   required_car_parking_spaces : Number of car parking spaces required by the customer\n",
        "*   total_of_special_requests : Number of special requests made by the customer (e.g. twin bed or high floor)\n",
        "*   reservation_status : Reservation last status, assuming one of three categories: Canceled – booking was canceled by the customer; Check-Out – customer has checked in but already departed; No-Show – customer did not check-in and did inform the hotel of the reason why\n",
        "*   reservation_status_date : Date at which the last status was set. This variable can be used in conjunction with the ReservationStatus to understand when was the booking canceled or when did the customer checked-out of the hotel"
      ]
    },
    {
      "cell_type": "markdown",
      "metadata": {
        "id": "a0wB9lTNntOi",
        "colab_type": "text"
      },
      "source": [
        "### Data Road"
      ]
    },
    {
      "cell_type": "code",
      "metadata": {
        "id": "0gTZvu8PiKrk",
        "colab_type": "code",
        "colab": {
          "base_uri": "https://localhost:8080/",
          "height": 125
        },
        "outputId": "93f6cf7a-6c1d-4379-a33a-d89ea6d85232"
      },
      "source": [
        "from google.colab import drive\n",
        "drive.mount ('/content/drive')"
      ],
      "execution_count": null,
      "outputs": [
        {
          "output_type": "stream",
          "text": [
            "Go to this URL in a browser: https://accounts.google.com/o/oauth2/auth?client_id=947318989803-6bn6qk8qdgf4n4g3pfee6491hc0brc4i.apps.googleusercontent.com&redirect_uri=urn%3aietf%3awg%3aoauth%3a2.0%3aoob&response_type=code&scope=email%20https%3a%2f%2fwww.googleapis.com%2fauth%2fdocs.test%20https%3a%2f%2fwww.googleapis.com%2fauth%2fdrive%20https%3a%2f%2fwww.googleapis.com%2fauth%2fdrive.photos.readonly%20https%3a%2f%2fwww.googleapis.com%2fauth%2fpeopleapi.readonly\n",
            "\n",
            "Enter your authorization code:\n",
            "··········\n",
            "Mounted at /content/drive\n"
          ],
          "name": "stdout"
        }
      ]
    },
    {
      "cell_type": "code",
      "metadata": {
        "id": "ka5CrHwne77F",
        "colab_type": "code",
        "colab": {
          "base_uri": "https://localhost:8080/",
          "height": 72
        },
        "outputId": "c1277aec-1cbf-4262-a094-56f2bb917813"
      },
      "source": [
        "import numpy as np\n",
        "import pandas as pd\n",
        "import time\n",
        "import datetime\n",
        "\n",
        "from datetime import timedelta\n",
        "from sklearn.decomposition import PCA\n",
        "from sklearn.model_selection import train_test_split\n",
        "from sklearn.metrics import classification_report\n",
        "from sklearn.metrics import average_precision_score\n",
        "from sklearn.metrics import precision_recall_curve\n",
        "from sklearn.metrics import confusion_matrix, classification_report\n",
        "from sklearn.metrics import accuracy_score\n",
        "from sklearn.utils import resample\n",
        "# 로지스틱 회귀\n",
        "from sklearn.linear_model import LogisticRegression\n",
        "from sklearn.model_selection import cross_val_score\n",
        "# 랜덤포레스트 \n",
        "from sklearn.ensemble import RandomForestClassifier\n",
        "# 반복적 변수 제거 방식\n",
        "from sklearn.feature_selection import RFE\n",
        "# xgb\n",
        "from sklearn.ensemble import GradientBoostingClassifier\n",
        "from sklearn.tree import DecisionTreeClassifier\n",
        "from sklearn.tree import export_graphviz\n",
        "import graphviz\n",
        "\n",
        "from sklearn import tree\n",
        "\n",
        "## 분류 그래디언트 부스팅\n",
        "from sklearn.ensemble import GradientBoostingClassifier\n",
        "from statsmodels.tools.eval_measures import rmse\n",
        "\n",
        "import xgboost as xgb\n",
        "\n",
        "# lgbm\n",
        "import lightgbm\n",
        "from lightgbm import LGBMClassifier\n",
        "\n",
        "from sklearn.model_selection import GridSearchCV\n",
        "\n",
        "import matplotlib.pyplot as plt\n",
        "import matplotlib as mpl\n",
        "import seaborn as sns\n",
        "%matplotlib inline\n",
        "\n",
        "from sklearn.metrics import roc_auc_score\n",
        "import warnings\n",
        "warnings.filterwarnings('ignore')\n",
        "from sklearn.preprocessing import StandardScaler"
      ],
      "execution_count": null,
      "outputs": [
        {
          "output_type": "stream",
          "text": [
            "/usr/local/lib/python3.6/dist-packages/statsmodels/tools/_testing.py:19: FutureWarning: pandas.util.testing is deprecated. Use the functions in the public API at pandas.testing instead.\n",
            "  import pandas.util.testing as tm\n"
          ],
          "name": "stderr"
        }
      ]
    },
    {
      "cell_type": "code",
      "metadata": {
        "id": "Q8XBMgzye_K1",
        "colab_type": "code",
        "colab": {}
      },
      "source": [
        "hotel = pd.read_csv(\"/content/drive/My Drive/SNU 빅데이터 핀테크/데이터사이언스/개인과제/hotel_bookings.csv/hotel_bookings.csv\")"
      ],
      "execution_count": null,
      "outputs": []
    },
    {
      "cell_type": "markdown",
      "metadata": {
        "id": "0J3xHLe4I4gO",
        "colab_type": "text"
      },
      "source": [
        "### EDA"
      ]
    },
    {
      "cell_type": "code",
      "metadata": {
        "id": "FgmtJZUkdf7C",
        "colab_type": "code",
        "colab": {
          "base_uri": "https://localhost:8080/"
        },
        "outputId": "ae0f2a0b-94a9-4369-f44d-196a0c2d0d2a"
      },
      "source": [
        "hotel.head()\n",
        "hotel.shape"
      ],
      "execution_count": null,
      "outputs": [
        {
          "output_type": "execute_result",
          "data": {
            "text/plain": [
              "(119390, 32)"
            ]
          },
          "metadata": {
            "tags": []
          },
          "execution_count": 85
        }
      ]
    },
    {
      "cell_type": "code",
      "metadata": {
        "id": "WaAV10htfwDF",
        "colab_type": "code",
        "colab": {
          "base_uri": "https://localhost:8080/",
          "height": 246
        },
        "outputId": "971bfd91-644b-4ac9-d3ee-7eab691bb637"
      },
      "source": [
        "# 연속형 변수 확인\n",
        "print(\"연속형 변수 : \", hotel.describe().columns)\n",
        "\n",
        "# 범주형 변수 확인\n",
        "print(\"범주형 변수 : \", hotel.describe(include='object').columns)\n"
      ],
      "execution_count": null,
      "outputs": [
        {
          "output_type": "stream",
          "text": [
            "연속형 변수 :  Index(['is_canceled', 'lead_time', 'arrival_date_year',\n",
            "       'arrival_date_week_number', 'arrival_date_day_of_month',\n",
            "       'stays_in_weekend_nights', 'stays_in_week_nights', 'adults', 'children',\n",
            "       'babies', 'is_repeated_guest', 'previous_cancellations',\n",
            "       'previous_bookings_not_canceled', 'booking_changes', 'agent', 'company',\n",
            "       'days_in_waiting_list', 'adr', 'required_car_parking_spaces',\n",
            "       'total_of_special_requests'],\n",
            "      dtype='object')\n",
            "범주형 변수 :  Index(['hotel', 'arrival_date_month', 'meal', 'country', 'market_segment',\n",
            "       'distribution_channel', 'reserved_room_type', 'assigned_room_type',\n",
            "       'deposit_type', 'customer_type', 'reservation_status',\n",
            "       'reservation_status_date'],\n",
            "      dtype='object')\n"
          ],
          "name": "stdout"
        }
      ]
    },
    {
      "cell_type": "code",
      "metadata": {
        "id": "HXbXH7ZwcRla",
        "colab_type": "code",
        "colab": {
          "base_uri": "https://localhost:8080/"
        },
        "outputId": "7825f435-b284-4f7f-85b4-ece573baeea9"
      },
      "source": [
        "hotel.info()"
      ],
      "execution_count": null,
      "outputs": [
        {
          "output_type": "stream",
          "text": [
            "<class 'pandas.core.frame.DataFrame'>\n",
            "RangeIndex: 119390 entries, 0 to 119389\n",
            "Data columns (total 32 columns):\n",
            " #   Column                          Non-Null Count   Dtype  \n",
            "---  ------                          --------------   -----  \n",
            " 0   hotel                           119390 non-null  object \n",
            " 1   is_canceled                     119390 non-null  int64  \n",
            " 2   lead_time                       119390 non-null  int64  \n",
            " 3   arrival_date_year               119390 non-null  int64  \n",
            " 4   arrival_date_month              119390 non-null  object \n",
            " 5   arrival_date_week_number        119390 non-null  int64  \n",
            " 6   arrival_date_day_of_month       119390 non-null  int64  \n",
            " 7   stays_in_weekend_nights         119390 non-null  int64  \n",
            " 8   stays_in_week_nights            119390 non-null  int64  \n",
            " 9   adults                          119390 non-null  int64  \n",
            " 10  children                        119386 non-null  float64\n",
            " 11  babies                          119390 non-null  int64  \n",
            " 12  meal                            119390 non-null  object \n",
            " 13  country                         118902 non-null  object \n",
            " 14  market_segment                  119390 non-null  object \n",
            " 15  distribution_channel            119390 non-null  object \n",
            " 16  is_repeated_guest               119390 non-null  int64  \n",
            " 17  previous_cancellations          119390 non-null  int64  \n",
            " 18  previous_bookings_not_canceled  119390 non-null  int64  \n",
            " 19  reserved_room_type              119390 non-null  object \n",
            " 20  assigned_room_type              119390 non-null  object \n",
            " 21  booking_changes                 119390 non-null  int64  \n",
            " 22  deposit_type                    119390 non-null  object \n",
            " 23  agent                           103050 non-null  float64\n",
            " 24  company                         6797 non-null    float64\n",
            " 25  days_in_waiting_list            119390 non-null  int64  \n",
            " 26  customer_type                   119390 non-null  object \n",
            " 27  adr                             119390 non-null  float64\n",
            " 28  required_car_parking_spaces     119390 non-null  int64  \n",
            " 29  total_of_special_requests       119390 non-null  int64  \n",
            " 30  reservation_status              119390 non-null  object \n",
            " 31  reservation_status_date         119390 non-null  object \n",
            "dtypes: float64(4), int64(16), object(12)\n",
            "memory usage: 29.1+ MB\n"
          ],
          "name": "stdout"
        }
      ]
    },
    {
      "cell_type": "code",
      "metadata": {
        "id": "dwwSeskbg3lb",
        "colab_type": "code",
        "colab": {}
      },
      "source": [
        "# company, agent 변수에 결측 많음 => column 삭제되나 확인\n",
        "# children, country 결측 삭제 확인\n",
        "hotel.isna().sum()"
      ],
      "execution_count": null,
      "outputs": []
    },
    {
      "cell_type": "code",
      "metadata": {
        "id": "zLqxO4Hugs4m",
        "colab_type": "code",
        "colab": {
          "base_uri": "https://localhost:8080/",
          "height": 70
        },
        "outputId": "510263e4-da6b-4558-ba7a-5ac96f7b70c0"
      },
      "source": [
        "hotel[\"is_canceled\"].unique()\n",
        "hotel[\"is_canceled\"].value_counts()\n",
        "\n",
        "#hotel[\"is_canceled\"].values"
      ],
      "execution_count": null,
      "outputs": [
        {
          "output_type": "execute_result",
          "data": {
            "text/plain": [
              "0    75166\n",
              "1    44224\n",
              "Name: is_canceled, dtype: int64"
            ]
          },
          "metadata": {
            "tags": []
          },
          "execution_count": 71
        }
      ]
    },
    {
      "cell_type": "code",
      "metadata": {
        "id": "O6y61Vs06tPC",
        "colab_type": "code",
        "colab": {}
      },
      "source": [
        "hotel.head(5)\n",
        "# int -> object : is_canceled, arrival_date_year, \n",
        "# object -> int \n"
      ],
      "execution_count": null,
      "outputs": []
    },
    {
      "cell_type": "markdown",
      "metadata": {
        "id": "udJB7gUP3PmK",
        "colab_type": "text"
      },
      "source": [
        "### Data Cleaning"
      ]
    },
    {
      "cell_type": "markdown",
      "metadata": {
        "id": "Wu88i_X7Pq4Y",
        "colab_type": "text"
      },
      "source": [
        "##### 결측치 삭제"
      ]
    },
    {
      "cell_type": "code",
      "metadata": {
        "id": "R3xI7aMxPuOr",
        "colab_type": "code",
        "colab": {
          "base_uri": "https://localhost:8080/",
          "height": 34
        },
        "outputId": "acf62f25-b7b5-439c-dc41-bbf7770c4b78"
      },
      "source": [
        "# company, agent 변수는 결측치가 너무 많아서 변수 drop\n",
        "hotel.drop('company', axis=1, inplace=True)\n",
        "hotel.drop('agent', axis=1, inplace=True)\n",
        "hotel.shape"
      ],
      "execution_count": null,
      "outputs": [
        {
          "output_type": "execute_result",
          "data": {
            "text/plain": [
              "(119390, 30)"
            ]
          },
          "metadata": {
            "tags": []
          },
          "execution_count": 5
        }
      ]
    },
    {
      "cell_type": "code",
      "metadata": {
        "id": "GjC-lj-Yj0zn",
        "colab_type": "code",
        "colab": {}
      },
      "source": [
        "# children-> 4개 , country-> 488개\n",
        "hotel['country'].isna().sum()\n",
        "hotel[hotel['country'].isna()]\n",
        "hotel['country'].value_counts()\n",
        "\n",
        "hotel.dropna(inplace=True)\n",
        "#hotel[['country','children']].dropna()\n",
        "#hotel.shape"
      ],
      "execution_count": null,
      "outputs": []
    },
    {
      "cell_type": "code",
      "metadata": {
        "id": "Y0woQmOaNR3E",
        "colab_type": "code",
        "colab": {}
      },
      "source": [
        "# index 다시 설정\n",
        "hotel.reset_index(drop=True,inplace=True)"
      ],
      "execution_count": null,
      "outputs": []
    },
    {
      "cell_type": "markdown",
      "metadata": {
        "id": "3SEIlgizjS9t",
        "colab_type": "text"
      },
      "source": [
        "##### int-> object"
      ]
    },
    {
      "cell_type": "markdown",
      "metadata": {
        "id": "liqLV0mBOFbL",
        "colab_type": "text"
      },
      "source": [
        "##### 파생변수 생성"
      ]
    },
    {
      "cell_type": "code",
      "metadata": {
        "id": "EeUZDKlkHgH1",
        "colab_type": "code",
        "colab": {
          "base_uri": "https://localhost:8080/",
          "height": 34
        },
        "outputId": "f41451bb-1669-4d41-a71f-be64eea2e1f4"
      },
      "source": [
        "# 파생변수 생성 : stay_in_weekend_nights + stays_in_week_nights = stay_nights\n",
        "# 파생변수 생성 : adults+children+babies = sum_customer\n",
        "# 파생변수 생성 : previous_cancellations + previous_bookings_not_canceled + 1 = booking_counts\n",
        "hotel['stay_nights']=hotel['stays_in_week_nights']+hotel['stays_in_weekend_nights']\n",
        "hotel['sum_customer'] = hotel['adults']+hotel['children']+hotel['babies']\n",
        "hotel['booking_counts'] = hotel['previous_cancellations']+hotel['previous_bookings_not_canceled']+1\n",
        "\n",
        "hotel.shape"
      ],
      "execution_count": null,
      "outputs": [
        {
          "output_type": "execute_result",
          "data": {
            "text/plain": [
              "(118898, 33)"
            ]
          },
          "metadata": {
            "tags": []
          },
          "execution_count": 8
        }
      ]
    },
    {
      "cell_type": "code",
      "metadata": {
        "id": "yDjKeSqY5rt4",
        "colab_type": "code",
        "colab": {}
      },
      "source": [
        "# 1월 ~ 12월을 숫자로 변경\n",
        "hotel['arrival_date_month'].value_counts()\n",
        "\n",
        "hotel.loc[hotel['arrival_date_month']=='January', 'arrival_date_month'] = '01'\n",
        "hotel.loc[hotel['arrival_date_month']=='February', 'arrival_date_month'] = '02'\n",
        "hotel.loc[hotel['arrival_date_month']=='March', 'arrival_date_month'] = '03'\n",
        "hotel.loc[hotel['arrival_date_month']=='April', 'arrival_date_month'] = '04'\n",
        "hotel.loc[hotel['arrival_date_month']=='May', 'arrival_date_month'] = '05'\n",
        "hotel.loc[hotel['arrival_date_month']=='June', 'arrival_date_month'] = '06'\n",
        "hotel.loc[hotel['arrival_date_month']=='July', 'arrival_date_month'] = '07'\n",
        "hotel.loc[hotel['arrival_date_month']=='August', 'arrival_date_month'] = '08'\n",
        "hotel.loc[hotel['arrival_date_month']=='September', 'arrival_date_month'] = '09'\n",
        "hotel.loc[hotel['arrival_date_month']=='October', 'arrival_date_month'] = '10'\n",
        "hotel.loc[hotel['arrival_date_month']=='November', 'arrival_date_month'] = '11'\n",
        "hotel.loc[hotel['arrival_date_month']=='December', 'arrival_date_month'] = '12'\n",
        "\n",
        "hotel['arrival_date_month'].value_counts()\n",
        "\n",
        "# 도착 연도, 월, 일 문자형으로 변경\n",
        "hotel['arrival_date_year']=hotel['arrival_date_year'].astype(str)\n",
        "hotel['arrival_date_day_of_month']=hotel['arrival_date_day_of_month'].astype(str)\n",
        "hotel['arrival_date_month']=hotel['arrival_date_month'].astype(str)"
      ],
      "execution_count": null,
      "outputs": []
    },
    {
      "cell_type": "code",
      "metadata": {
        "id": "HJdsuDqU9Tev",
        "colab_type": "code",
        "colab": {
          "base_uri": "https://localhost:8080/",
          "height": 34
        },
        "outputId": "90f1e41a-fe62-4e6f-99ee-eb909dccc454"
      },
      "source": [
        "# 파생변수 생성 : arrival_status_date\n",
        "# arrival_date_year,\tarrival_date_month,\tarrival_date_day_of_month\n",
        "hotel['arrival_status_date'] = hotel['arrival_date_year']+\"-\"+hotel['arrival_date_month']+\"-\"+hotel['arrival_date_day_of_month']\n",
        "hotel['arrival_status_date']\n",
        "hotel.shape"
      ],
      "execution_count": null,
      "outputs": [
        {
          "output_type": "execute_result",
          "data": {
            "text/plain": [
              "(118898, 34)"
            ]
          },
          "metadata": {
            "tags": []
          },
          "execution_count": 10
        }
      ]
    },
    {
      "cell_type": "code",
      "metadata": {
        "id": "oYSP3L3JBpt6",
        "colab_type": "code",
        "colab": {}
      },
      "source": [
        "hotel['is_canceled']=hotel['is_canceled'].astype(str)\n",
        "hotel['is_canceled'].value_counts()\n",
        "\n",
        "# 한번 이상 왔으면 1, 처음이면 0 => object\n",
        "hotel['is_repeated_guest']=hotel['is_repeated_guest'].astype(str)"
      ],
      "execution_count": null,
      "outputs": []
    },
    {
      "cell_type": "code",
      "metadata": {
        "id": "ycd1IHBynyzq",
        "colab_type": "code",
        "colab": {
          "base_uri": "https://localhost:8080/",
          "height": 87
        },
        "outputId": "34f8492a-ebb7-4b7d-8d4c-1a71379d14a5"
      },
      "source": [
        "hotel['reservation_status'].value_counts()"
      ],
      "execution_count": null,
      "outputs": [
        {
          "output_type": "execute_result",
          "data": {
            "text/plain": [
              "Check-Out    74745\n",
              "Canceled     42950\n",
              "No-Show       1203\n",
              "Name: reservation_status, dtype: int64"
            ]
          },
          "metadata": {
            "tags": []
          },
          "execution_count": 12
        }
      ]
    },
    {
      "cell_type": "code",
      "metadata": {
        "id": "RmXujbmYxqrr",
        "colab_type": "code",
        "colab": {}
      },
      "source": [
        "# datetime으로 변환\n",
        "hotel['reservation_status_date'] = pd.to_datetime(hotel['reservation_status_date'])\n",
        "hotel['arrival_status_date']= pd.to_datetime(hotel['arrival_status_date'])\n",
        "\n",
        "# 파생변수 생성 : 다음 예약까지 남은 일수 reservation_status_date-arrival_status_date = next_reservation_days\n",
        "hotel['next_reservation_days']= hotel['reservation_status_date']-hotel['arrival_status_date']\n",
        "hotel['next_reservation_days']=hotel['next_reservation_days'].astype(str)\n",
        "#hotel['next_reservation_days']\n",
        "\n",
        "# 숫자만 떼는거 성공!\n",
        "hotel['next_reservation_days']=hotel['next_reservation_days'].str.split(n=1, expand=True)\n",
        "hotel['next_reservation_days']=pd.to_numeric(hotel['next_reservation_days'])\n",
        "#hotel['next_reservation_days']"
      ],
      "execution_count": null,
      "outputs": []
    },
    {
      "cell_type": "code",
      "metadata": {
        "id": "U3WZrN2K-kqg",
        "colab_type": "code",
        "colab": {}
      },
      "source": [
        "hotel['arrival_status_date'] = hotel['arrival_status_date'].astype(str)\n",
        "hotel['reservation_status_date'] = hotel['reservation_status_date'].astype(str)"
      ],
      "execution_count": null,
      "outputs": []
    },
    {
      "cell_type": "code",
      "metadata": {
        "id": "aoDCUF043A-X",
        "colab_type": "code",
        "colab": {}
      },
      "source": [
        "# 파생변수 생성 - 'reserved_room_type'== 'assigned_room_type' => same_room (같으면 1, 다르면 0)\n",
        "\n",
        "hotel['same_room']='1'\n",
        "\n",
        "for i in range(len(hotel)):\n",
        "  if hotel['reserved_room_type'][i]==hotel['assigned_room_type'][i]:\n",
        "    hotel['same_room'][i]='1'\n",
        "  else:\n",
        "    hotel['same_room'][i]='0'\n",
        "\n",
        "# if hotel['reserved_room_type']== hotel['assigned_room_type']:\n",
        "#   hotel['same_room_type']='1'\n",
        "# else:\n",
        "#   hotel['same_room_type']='0'\n"
      ],
      "execution_count": null,
      "outputs": []
    },
    {
      "cell_type": "markdown",
      "metadata": {
        "id": "gFWeHSqE3ZSi",
        "colab_type": "text"
      },
      "source": [
        "### Feature Selection"
      ]
    },
    {
      "cell_type": "markdown",
      "metadata": {
        "id": "0YAUyI1jmtaO",
        "colab_type": "text"
      },
      "source": [
        "##### processing"
      ]
    },
    {
      "cell_type": "code",
      "metadata": {
        "id": "slRveRJlg0n4",
        "colab_type": "code",
        "colab": {
          "base_uri": "https://localhost:8080/",
          "height": 690
        },
        "outputId": "7024b38a-b8f7-4003-faeb-bc8b565805db"
      },
      "source": [
        "# Heatmap\n",
        "sns.set(rc={'figure.figsize':(18,14)})\n",
        "colors = sns.color_palette(\"RdPu\", 10)\n",
        "\n",
        "heatmap = sns.heatmap(hotel.corr(),annot=True, fmt='.2f', cmap=colors)\n",
        "heatmap"
      ],
      "execution_count": null,
      "outputs": [
        {
          "output_type": "execute_result",
          "data": {
            "text/plain": [
              "<matplotlib.axes._subplots.AxesSubplot at 0x7f582cb3b9e8>"
            ]
          },
          "metadata": {
            "tags": []
          },
          "execution_count": 16
        },
        {
          "output_type": "display_data",
          "data": {
            "image/png": "[encoded data removed]",
            "text/plain": [
              "<Figure size 1296x1008 with 2 Axes>"
            ]
          },
          "metadata": {
            "tags": []
          }
        }
      ]
    },
    {
      "cell_type": "code",
      "metadata": {
        "id": "DTTuQ0wlry9l",
        "colab_type": "code",
        "colab": {
          "base_uri": "https://localhost:8080/",
          "height": 34
        },
        "outputId": "0653fe65-e3bc-4174-a17c-5daf1e929335"
      },
      "source": [
        "# stays_in_weekend_nights, stays_in_week_nights, stay_nights 를 pca로 주성분 1만 사용하기\n",
        "# next_reservation_days, lead_time 을 pca로 주성분 1만 사용하기 -> 상관계수 -0.56\n",
        "# stays_in_weekend_nights, stays_in_week_nights 을 drop\n",
        "# adults, children, babies 을 drop\n",
        "\n",
        "hotel.head()\n",
        "hotel.shape"
      ],
      "execution_count": null,
      "outputs": [
        {
          "output_type": "execute_result",
          "data": {
            "text/plain": [
              "(118898, 36)"
            ]
          },
          "metadata": {
            "tags": []
          },
          "execution_count": 17
        }
      ]
    },
    {
      "cell_type": "code",
      "metadata": {
        "id": "sWU93gFw7zS9",
        "colab_type": "code",
        "colab": {
          "base_uri": "https://localhost:8080/",
          "height": 263
        },
        "outputId": "4ee15e89-8597-4f4b-cef0-f9d91e4d7f1d"
      },
      "source": [
        "hotel.columns"
      ],
      "execution_count": null,
      "outputs": [
        {
          "output_type": "execute_result",
          "data": {
            "text/plain": [
              "Index(['hotel', 'is_canceled', 'lead_time', 'arrival_date_year',\n",
              "       'arrival_date_month', 'arrival_date_week_number',\n",
              "       'arrival_date_day_of_month', 'stays_in_weekend_nights',\n",
              "       'stays_in_week_nights', 'adults', 'children', 'babies', 'meal',\n",
              "       'country', 'market_segment', 'distribution_channel',\n",
              "       'is_repeated_guest', 'previous_cancellations',\n",
              "       'previous_bookings_not_canceled', 'reserved_room_type',\n",
              "       'assigned_room_type', 'booking_changes', 'deposit_type',\n",
              "       'days_in_waiting_list', 'customer_type', 'adr',\n",
              "       'required_car_parking_spaces', 'total_of_special_requests',\n",
              "       'reservation_status', 'reservation_status_date', 'stay_nights',\n",
              "       'sum_customer', 'booking_counts', 'arrival_status_date',\n",
              "       'next_reservation_days', 'same_room'],\n",
              "      dtype='object')"
            ]
          },
          "metadata": {
            "tags": []
          },
          "execution_count": 18
        }
      ]
    },
    {
      "cell_type": "code",
      "metadata": {
        "id": "JjxmthJ-22ZL",
        "colab_type": "code",
        "colab": {
          "base_uri": "https://localhost:8080/",
          "height": 34
        },
        "outputId": "4a486f66-30d0-45a2-9eb1-51d7333bd8ff"
      },
      "source": [
        "# X와 y 생성\n",
        "\n",
        "y=hotel['is_canceled'].copy()\n",
        "features = ['hotel', 'lead_time', 'arrival_date_week_number',\n",
        "       'stays_in_weekend_nights', 'stays_in_week_nights', 'meal',\n",
        "       'country', 'market_segment', 'distribution_channel', 'is_repeated_guest',\n",
        "       'reserved_room_type', 'assigned_room_type', 'booking_changes', 'deposit_type',\n",
        "       'days_in_waiting_list', 'customer_type', 'adr',\n",
        "       'required_car_parking_spaces', 'total_of_special_requests',\n",
        "       'reservation_status', 'stay_nights', 'sum_customer', 'booking_counts', 'next_reservation_days','same_room']\n",
        "\n",
        "X = hotel[features].copy()\n",
        "X.shape"
      ],
      "execution_count": null,
      "outputs": [
        {
          "output_type": "execute_result",
          "data": {
            "text/plain": [
              "(118898, 25)"
            ]
          },
          "metadata": {
            "tags": []
          },
          "execution_count": 19
        }
      ]
    },
    {
      "cell_type": "code",
      "metadata": {
        "id": "nJyu40s6C_wq",
        "colab_type": "code",
        "colab": {
          "base_uri": "https://localhost:8080/",
          "height": 580
        },
        "outputId": "c212612f-f7d3-4bd4-d679-9f5eda365dbc"
      },
      "source": [
        "X.info()"
      ],
      "execution_count": null,
      "outputs": [
        {
          "output_type": "stream",
          "text": [
            "<class 'pandas.core.frame.DataFrame'>\n",
            "RangeIndex: 118898 entries, 0 to 118897\n",
            "Data columns (total 25 columns):\n",
            " #   Column                       Non-Null Count   Dtype  \n",
            "---  ------                       --------------   -----  \n",
            " 0   hotel                        118898 non-null  object \n",
            " 1   lead_time                    118898 non-null  int64  \n",
            " 2   arrival_date_week_number     118898 non-null  int64  \n",
            " 3   stays_in_weekend_nights      118898 non-null  int64  \n",
            " 4   stays_in_week_nights         118898 non-null  int64  \n",
            " 5   meal                         118898 non-null  object \n",
            " 6   country                      118898 non-null  object \n",
            " 7   market_segment               118898 non-null  object \n",
            " 8   distribution_channel         118898 non-null  object \n",
            " 9   is_repeated_guest            118898 non-null  object \n",
            " 10  reserved_room_type           118898 non-null  object \n",
            " 11  assigned_room_type           118898 non-null  object \n",
            " 12  booking_changes              118898 non-null  int64  \n",
            " 13  deposit_type                 118898 non-null  object \n",
            " 14  days_in_waiting_list         118898 non-null  int64  \n",
            " 15  customer_type                118898 non-null  object \n",
            " 16  adr                          118898 non-null  float64\n",
            " 17  required_car_parking_spaces  118898 non-null  int64  \n",
            " 18  total_of_special_requests    118898 non-null  int64  \n",
            " 19  reservation_status           118898 non-null  object \n",
            " 20  stay_nights                  118898 non-null  int64  \n",
            " 21  sum_customer                 118898 non-null  float64\n",
            " 22  booking_counts               118898 non-null  int64  \n",
            " 23  next_reservation_days        118898 non-null  int64  \n",
            " 24  same_room                    118898 non-null  object \n",
            "dtypes: float64(2), int64(11), object(12)\n",
            "memory usage: 22.7+ MB\n"
          ],
          "name": "stdout"
        }
      ]
    },
    {
      "cell_type": "code",
      "metadata": {
        "id": "OU8ChyyD9q-_",
        "colab_type": "code",
        "colab": {}
      },
      "source": [
        "## 1) pca\n",
        "stay_features = ['stays_in_weekend_nights', 'stays_in_week_nights', 'stay_nights']\n",
        "days_features = ['next_reservation_days', 'lead_time']\n",
        "\n",
        "from sklearn.decomposition import PCA\n",
        "pca = PCA(n_components=1)\n",
        "stay_features_pca = pca.fit_transform(X[stay_features])\n",
        "days_features_pca = pca.fit_transform(X[days_features])\n",
        "# stay_features_pca.shape\n",
        "\n",
        "# pca 설명력 확인 92%\n",
        "# cumsum = np.cumsum(pca.explained_variance_ratio_)"
      ],
      "execution_count": null,
      "outputs": []
    },
    {
      "cell_type": "code",
      "metadata": {
        "id": "joechtQZI65q",
        "colab_type": "code",
        "colab": {}
      },
      "source": [
        "X['stay_features_pca'] = stay_features_pca\n",
        "X['days_features_pca'] = days_features_pca\n",
        "#X.head()"
      ],
      "execution_count": null,
      "outputs": []
    },
    {
      "cell_type": "code",
      "metadata": {
        "id": "7EcuLf8F3xTQ",
        "colab_type": "code",
        "colab": {}
      },
      "source": [
        "## 2) 연속형 변수 drop - stays_pca\n",
        "X.drop('stays_in_weekend_nights', axis=1, inplace=True)\n",
        "X.drop('stays_in_week_nights', axis=1, inplace=True)\n",
        "\n",
        "## 3) 연속형 변수 drop - days_pca\n",
        "X.drop('lead_time', axis=1, inplace=True)\n",
        "X.drop('next_reservation_days', axis=1, inplace=True)\n",
        "\n",
        "## 4) 범주형 변수 drop - not for dummy\n",
        "X.drop('country', axis=1, inplace=True)\n",
        "X.drop('reserved_room_type', axis=1, inplace=True)\n",
        "X.drop('assigned_room_type', axis=1, inplace=True)\n",
        "\n"
      ],
      "execution_count": null,
      "outputs": []
    },
    {
      "cell_type": "code",
      "metadata": {
        "id": "v_ksFIVUNOhl",
        "colab_type": "code",
        "colab": {}
      },
      "source": [
        "int_cols = [ f for f in X.columns if X.dtypes[ f ] != \"object\"]\n",
        "obj_cols = [ f for f in X.columns if X.dtypes[ f ] == \"object\"]"
      ],
      "execution_count": null,
      "outputs": []
    },
    {
      "cell_type": "code",
      "metadata": {
        "id": "s-8p-Mw5w-9k",
        "colab_type": "code",
        "colab": {
          "base_uri": "https://localhost:8080/",
          "height": 54
        },
        "outputId": "3c3c1e7f-0459-4b72-d6ba-652080902376"
      },
      "source": [
        "'''\n",
        "# pca한거 빼고 연속형 변수\n",
        "int_notpca_cols = ['arrival_date_week_number', 'booking_changes', 'days_in_waiting_list',\n",
        " 'adr', 'required_car_parking_spaces', 'total_of_special_requests', 'stay_nights',\n",
        " 'sum_customer', 'booking_counts']\n",
        "\n",
        " # 스케일러로 값 변환\n",
        "from sklearn.preprocessing import StandardScaler\n",
        "scaler = StandardScaler()\n",
        "scaler.fit(hotel[int_cols].values)\n",
        "'''"
      ],
      "execution_count": null,
      "outputs": [
        {
          "output_type": "execute_result",
          "data": {
            "text/plain": [
              "\"\\n# pca한거 빼고 연속형 변수\\nint_notpca_cols = ['arrival_date_week_number', 'booking_changes', 'days_in_waiting_list',\\n 'adr', 'required_car_parking_spaces', 'total_of_special_requests', 'stay_nights',\\n 'sum_customer', 'booking_counts']\\n\\n # 스케일러로 값 변환\\nfrom sklearn.preprocessing import StandardScaler\\nscaler = StandardScaler()\\nscaler.fit(hotel[int_cols].values)\\n\""
            ]
          },
          "metadata": {
            "tags": []
          },
          "execution_count": 24
        }
      ]
    },
    {
      "cell_type": "code",
      "metadata": {
        "id": "dfbcueld2ZXD",
        "colab_type": "code",
        "colab": {
          "base_uri": "https://localhost:8080/",
          "height": 175
        },
        "outputId": "0ca69ff4-26ab-42b4-96b0-afa9fe7fb2db"
      },
      "source": [
        "obj_cols"
      ],
      "execution_count": null,
      "outputs": [
        {
          "output_type": "execute_result",
          "data": {
            "text/plain": [
              "['hotel',\n",
              " 'meal',\n",
              " 'market_segment',\n",
              " 'distribution_channel',\n",
              " 'is_repeated_guest',\n",
              " 'deposit_type',\n",
              " 'customer_type',\n",
              " 'reservation_status',\n",
              " 'same_room']"
            ]
          },
          "metadata": {
            "tags": []
          },
          "execution_count": 25
        }
      ]
    },
    {
      "cell_type": "code",
      "metadata": {
        "id": "nthD_YGS2J77",
        "colab_type": "code",
        "colab": {
          "base_uri": "https://localhost:8080/",
          "height": 87
        },
        "outputId": "00003b52-9983-4281-9eae-0b78de51f9b3"
      },
      "source": [
        "X['reservation_status'].value_counts()"
      ],
      "execution_count": null,
      "outputs": [
        {
          "output_type": "execute_result",
          "data": {
            "text/plain": [
              "Check-Out    74745\n",
              "Canceled     42950\n",
              "No-Show       1203\n",
              "Name: reservation_status, dtype: int64"
            ]
          },
          "metadata": {
            "tags": []
          },
          "execution_count": 26
        }
      ]
    },
    {
      "cell_type": "markdown",
      "metadata": {
        "id": "hbDuSukiaNC2",
        "colab_type": "text"
      },
      "source": [
        "##### 변수 선택"
      ]
    },
    {
      "cell_type": "code",
      "metadata": {
        "id": "G-pNS70Kx7y2",
        "colab_type": "code",
        "colab": {
          "base_uri": "https://localhost:8080/",
          "height": 343
        },
        "outputId": "15456dd0-b9a6-4c67-aa12-a908bb4a587a"
      },
      "source": [
        "## 5) 변수 영향력 도출 - xgb\n",
        "# 더미변수 생성\n",
        "X_dummy = pd.get_dummies(X)\n",
        "\n",
        "xgb_clf = xgb.XGBClassifier(max_depth=5, n_estimators=100, learning_rate=0.2, random_state=42)\n",
        "xgb_clf.fit(X_dummy, y)\n",
        "\n",
        "## 변수중요도\n",
        "feature_importance=pd.DataFrame()\n",
        "feature_importance[\"feature\"]=X_dummy.columns\n",
        "feature_importance[\"importance\"]=xgb_clf.feature_importances_\n",
        "\n",
        "feature_importance.sort_values(by=\"importance\",ascending=False).head(10)"
      ],
      "execution_count": null,
      "outputs": [
        {
          "output_type": "execute_result",
          "data": {
            "text/html": [
              "<div>\n",
              "<style scoped>\n",
              "    .dataframe tbody tr th:only-of-type {\n",
              "        vertical-align: middle;\n",
              "    }\n",
              "\n",
              "    .dataframe tbody tr th {\n",
              "        vertical-align: top;\n",
              "    }\n",
              "\n",
              "    .dataframe thead th {\n",
              "        text-align: right;\n",
              "    }\n",
              "</style>\n",
              "<table border=\"1\" class=\"dataframe\">\n",
              "  <thead>\n",
              "    <tr style=\"text-align: right;\">\n",
              "      <th></th>\n",
              "      <th>feature</th>\n",
              "      <th>importance</th>\n",
              "    </tr>\n",
              "  </thead>\n",
              "  <tbody>\n",
              "    <tr>\n",
              "      <th>40</th>\n",
              "      <td>reservation_status_Check-Out</td>\n",
              "      <td>9.999966e-01</td>\n",
              "    </tr>\n",
              "    <tr>\n",
              "      <th>10</th>\n",
              "      <td>days_features_pca</td>\n",
              "      <td>3.257482e-06</td>\n",
              "    </tr>\n",
              "    <tr>\n",
              "      <th>3</th>\n",
              "      <td>adr</td>\n",
              "      <td>1.527894e-07</td>\n",
              "    </tr>\n",
              "    <tr>\n",
              "      <th>0</th>\n",
              "      <td>arrival_date_week_number</td>\n",
              "      <td>0.000000e+00</td>\n",
              "    </tr>\n",
              "    <tr>\n",
              "      <th>33</th>\n",
              "      <td>deposit_type_Non Refund</td>\n",
              "      <td>0.000000e+00</td>\n",
              "    </tr>\n",
              "    <tr>\n",
              "      <th>25</th>\n",
              "      <td>distribution_channel_Corporate</td>\n",
              "      <td>0.000000e+00</td>\n",
              "    </tr>\n",
              "    <tr>\n",
              "      <th>26</th>\n",
              "      <td>distribution_channel_Direct</td>\n",
              "      <td>0.000000e+00</td>\n",
              "    </tr>\n",
              "    <tr>\n",
              "      <th>27</th>\n",
              "      <td>distribution_channel_GDS</td>\n",
              "      <td>0.000000e+00</td>\n",
              "    </tr>\n",
              "    <tr>\n",
              "      <th>28</th>\n",
              "      <td>distribution_channel_TA/TO</td>\n",
              "      <td>0.000000e+00</td>\n",
              "    </tr>\n",
              "    <tr>\n",
              "      <th>29</th>\n",
              "      <td>distribution_channel_Undefined</td>\n",
              "      <td>0.000000e+00</td>\n",
              "    </tr>\n",
              "  </tbody>\n",
              "</table>\n",
              "</div>"
            ],
            "text/plain": [
              "                           feature    importance\n",
              "40    reservation_status_Check-Out  9.999966e-01\n",
              "10               days_features_pca  3.257482e-06\n",
              "3                              adr  1.527894e-07\n",
              "0         arrival_date_week_number  0.000000e+00\n",
              "33         deposit_type_Non Refund  0.000000e+00\n",
              "25  distribution_channel_Corporate  0.000000e+00\n",
              "26     distribution_channel_Direct  0.000000e+00\n",
              "27        distribution_channel_GDS  0.000000e+00\n",
              "28      distribution_channel_TA/TO  0.000000e+00\n",
              "29  distribution_channel_Undefined  0.000000e+00"
            ]
          },
          "metadata": {
            "tags": []
          },
          "execution_count": 27
        }
      ]
    },
    {
      "cell_type": "code",
      "metadata": {
        "id": "KTyFGDdPPM04",
        "colab_type": "code",
        "colab": {}
      },
      "source": [
        "# reservation_status_Check-Out vs is_canceled 두 변수간의 관계는?\n",
        "a = {'checkout':X_dummy['reservation_status_Check-Out'], 'y':hotel['is_canceled']}"
      ],
      "execution_count": null,
      "outputs": []
    },
    {
      "cell_type": "code",
      "metadata": {
        "id": "C5bJQTPqPkjt",
        "colab_type": "code",
        "colab": {
          "base_uri": "https://localhost:8080/",
          "height": 52
        },
        "outputId": "de6e7926-44cc-418d-944a-d541661276f1"
      },
      "source": [
        "from pandas import DataFrame\n",
        "a_df = DataFrame(a)\n",
        "# print(a_df)\n",
        "a_df['checkout']=a_df['checkout'].astype('int')\n",
        "a_df['y'] = a_df['y'].astype('int')\n",
        "\n",
        "a_df['relation'] = a_df['checkout']-a_df['y']\n",
        "#print(a_df)\n",
        "print('checkoutsum :', a_df['checkout'].sum())\n",
        "print('relationsum :' ,a_df['relation'].sum())\n"
      ],
      "execution_count": null,
      "outputs": [
        {
          "output_type": "stream",
          "text": [
            "checkoutsum : 74745\n",
            "relationsum : 30592\n"
          ],
          "name": "stdout"
        }
      ]
    },
    {
      "cell_type": "code",
      "metadata": {
        "id": "RQ016BCTfzt1",
        "colab_type": "code",
        "colab": {}
      },
      "source": [
        "# reservation_status_Check-Out 얘때문에 정확도 1나와서 제거\n",
        "xgb={'days_features_pca':X_dummy['days_features_pca'], 'adr':X_dummy['adr'],'is_canceled': hotel['is_canceled']}\n",
        "from pandas import DataFrame\n",
        "\n",
        "xgb_df = DataFrame(xgb)"
      ],
      "execution_count": null,
      "outputs": []
    },
    {
      "cell_type": "code",
      "metadata": {
        "id": "hNyxj-933xC6",
        "colab_type": "code",
        "colab": {
          "base_uri": "https://localhost:8080/",
          "height": 343
        },
        "outputId": "6b8e44bd-2a29-4c82-ba31-d06a6bc0fe56"
      },
      "source": [
        "## 6) 변수 영향력 도출 - lgbm\n",
        "lgb_clf=LGBMClassifier(max_depth=5, n_estimators=100,\n",
        "    learning_rate=0.2, random_state=42)\n",
        "lgb_clf.fit(X_dummy,y)\n",
        "\n",
        "## 변수중요도\n",
        "feature_importance=pd.DataFrame()\n",
        "feature_importance[\"feature\"]=X_dummy.columns\n",
        "feature_importance[\"importance\"]=lgb_clf.feature_importances_\n",
        "\n",
        "feature_importance.sort_values(by=\"importance\",ascending=False).head(10)"
      ],
      "execution_count": null,
      "outputs": [
        {
          "output_type": "execute_result",
          "data": {
            "text/html": [
              "<div>\n",
              "<style scoped>\n",
              "    .dataframe tbody tr th:only-of-type {\n",
              "        vertical-align: middle;\n",
              "    }\n",
              "\n",
              "    .dataframe tbody tr th {\n",
              "        vertical-align: top;\n",
              "    }\n",
              "\n",
              "    .dataframe thead th {\n",
              "        text-align: right;\n",
              "    }\n",
              "</style>\n",
              "<table border=\"1\" class=\"dataframe\">\n",
              "  <thead>\n",
              "    <tr style=\"text-align: right;\">\n",
              "      <th></th>\n",
              "      <th>feature</th>\n",
              "      <th>importance</th>\n",
              "    </tr>\n",
              "  </thead>\n",
              "  <tbody>\n",
              "    <tr>\n",
              "      <th>0</th>\n",
              "      <td>arrival_date_week_number</td>\n",
              "      <td>228</td>\n",
              "    </tr>\n",
              "    <tr>\n",
              "      <th>3</th>\n",
              "      <td>adr</td>\n",
              "      <td>219</td>\n",
              "    </tr>\n",
              "    <tr>\n",
              "      <th>40</th>\n",
              "      <td>reservation_status_Check-Out</td>\n",
              "      <td>86</td>\n",
              "    </tr>\n",
              "    <tr>\n",
              "      <th>2</th>\n",
              "      <td>days_in_waiting_list</td>\n",
              "      <td>54</td>\n",
              "    </tr>\n",
              "    <tr>\n",
              "      <th>10</th>\n",
              "      <td>days_features_pca</td>\n",
              "      <td>41</td>\n",
              "    </tr>\n",
              "    <tr>\n",
              "      <th>1</th>\n",
              "      <td>booking_changes</td>\n",
              "      <td>26</td>\n",
              "    </tr>\n",
              "    <tr>\n",
              "      <th>6</th>\n",
              "      <td>stay_nights</td>\n",
              "      <td>6</td>\n",
              "    </tr>\n",
              "    <tr>\n",
              "      <th>8</th>\n",
              "      <td>booking_counts</td>\n",
              "      <td>2</td>\n",
              "    </tr>\n",
              "    <tr>\n",
              "      <th>9</th>\n",
              "      <td>stay_features_pca</td>\n",
              "      <td>2</td>\n",
              "    </tr>\n",
              "    <tr>\n",
              "      <th>33</th>\n",
              "      <td>deposit_type_Non Refund</td>\n",
              "      <td>1</td>\n",
              "    </tr>\n",
              "  </tbody>\n",
              "</table>\n",
              "</div>"
            ],
            "text/plain": [
              "                         feature  importance\n",
              "0       arrival_date_week_number         228\n",
              "3                            adr         219\n",
              "40  reservation_status_Check-Out          86\n",
              "2           days_in_waiting_list          54\n",
              "10             days_features_pca          41\n",
              "1                booking_changes          26\n",
              "6                    stay_nights           6\n",
              "8                 booking_counts           2\n",
              "9              stay_features_pca           2\n",
              "33       deposit_type_Non Refund           1"
            ]
          },
          "metadata": {
            "tags": []
          },
          "execution_count": 110
        }
      ]
    },
    {
      "cell_type": "code",
      "metadata": {
        "id": "mfVL-KRAgzFA",
        "colab_type": "code",
        "colab": {}
      },
      "source": [
        "lgbm={'arrival_date_week_number':X_dummy['arrival_date_week_number'], 'adr':X_dummy['adr'],\n",
        "      'days_in_waiting_list':X_dummy['days_in_waiting_list'],\n",
        "      'days_features_pca':X_dummy['days_features_pca'],'booking_changes':X_dummy['booking_changes'],\n",
        "      'is_canceled': hotel['is_canceled']}\n",
        "lgbm_df = DataFrame(lgbm)"
      ],
      "execution_count": null,
      "outputs": []
    },
    {
      "cell_type": "code",
      "metadata": {
        "id": "SAQIYJ04UeuZ",
        "colab_type": "code",
        "colab": {
          "base_uri": "https://localhost:8080/",
          "height": 343
        },
        "outputId": "7922d8d8-1aef-4e97-9b83-a97e7634deed"
      },
      "source": [
        "## 7) 변수 영향력 도출 - RF\n",
        "\n",
        "rf_clf=RandomForestClassifier(max_depth=5, n_estimators=100, random_state=42)\n",
        "rf_clf.fit(X_dummy,y)\n",
        "\n",
        "## 변수중요도\n",
        "feature_importance=pd.DataFrame()\n",
        "feature_importance[\"feature\"]=X_dummy.columns\n",
        "feature_importance[\"importance\"]=rf_clf.feature_importances_\n",
        "feature_importance.sort_values(by=\"importance\",ascending=False).head(10)"
      ],
      "execution_count": null,
      "outputs": [
        {
          "output_type": "execute_result",
          "data": {
            "text/html": [
              "<div>\n",
              "<style scoped>\n",
              "    .dataframe tbody tr th:only-of-type {\n",
              "        vertical-align: middle;\n",
              "    }\n",
              "\n",
              "    .dataframe tbody tr th {\n",
              "        vertical-align: top;\n",
              "    }\n",
              "\n",
              "    .dataframe thead th {\n",
              "        text-align: right;\n",
              "    }\n",
              "</style>\n",
              "<table border=\"1\" class=\"dataframe\">\n",
              "  <thead>\n",
              "    <tr style=\"text-align: right;\">\n",
              "      <th></th>\n",
              "      <th>feature</th>\n",
              "      <th>importance</th>\n",
              "    </tr>\n",
              "  </thead>\n",
              "  <tbody>\n",
              "    <tr>\n",
              "      <th>40</th>\n",
              "      <td>reservation_status_Check-Out</td>\n",
              "      <td>0.405550</td>\n",
              "    </tr>\n",
              "    <tr>\n",
              "      <th>39</th>\n",
              "      <td>reservation_status_Canceled</td>\n",
              "      <td>0.382385</td>\n",
              "    </tr>\n",
              "    <tr>\n",
              "      <th>32</th>\n",
              "      <td>deposit_type_No Deposit</td>\n",
              "      <td>0.054018</td>\n",
              "    </tr>\n",
              "    <tr>\n",
              "      <th>33</th>\n",
              "      <td>deposit_type_Non Refund</td>\n",
              "      <td>0.052626</td>\n",
              "    </tr>\n",
              "    <tr>\n",
              "      <th>10</th>\n",
              "      <td>days_features_pca</td>\n",
              "      <td>0.033381</td>\n",
              "    </tr>\n",
              "    <tr>\n",
              "      <th>5</th>\n",
              "      <td>total_of_special_requests</td>\n",
              "      <td>0.010496</td>\n",
              "    </tr>\n",
              "    <tr>\n",
              "      <th>42</th>\n",
              "      <td>same_room_0</td>\n",
              "      <td>0.009974</td>\n",
              "    </tr>\n",
              "    <tr>\n",
              "      <th>41</th>\n",
              "      <td>reservation_status_No-Show</td>\n",
              "      <td>0.008944</td>\n",
              "    </tr>\n",
              "    <tr>\n",
              "      <th>22</th>\n",
              "      <td>market_segment_Groups</td>\n",
              "      <td>0.007523</td>\n",
              "    </tr>\n",
              "    <tr>\n",
              "      <th>43</th>\n",
              "      <td>same_room_1</td>\n",
              "      <td>0.006393</td>\n",
              "    </tr>\n",
              "  </tbody>\n",
              "</table>\n",
              "</div>"
            ],
            "text/plain": [
              "                         feature  importance\n",
              "40  reservation_status_Check-Out    0.405550\n",
              "39   reservation_status_Canceled    0.382385\n",
              "32       deposit_type_No Deposit    0.054018\n",
              "33       deposit_type_Non Refund    0.052626\n",
              "10             days_features_pca    0.033381\n",
              "5      total_of_special_requests    0.010496\n",
              "42                   same_room_0    0.009974\n",
              "41    reservation_status_No-Show    0.008944\n",
              "22         market_segment_Groups    0.007523\n",
              "43                   same_room_1    0.006393"
            ]
          },
          "metadata": {
            "tags": []
          },
          "execution_count": 112
        }
      ]
    },
    {
      "cell_type": "code",
      "metadata": {
        "id": "A80xL5_rhct1",
        "colab_type": "code",
        "colab": {}
      },
      "source": [
        "rf={'reservation_status_Canceled':X_dummy['reservation_status_Canceled'],\n",
        "      'deposit_type_No Deposit':X_dummy['deposit_type_No Deposit'], 'deposit_type_Non Refund':X_dummy['deposit_type_Non Refund'],\n",
        "      'days_features_pca':X_dummy['days_features_pca'],'total_of_special_requests':X_dummy['total_of_special_requests'],\n",
        "    'is_canceled': hotel['is_canceled']}\n",
        "rf_df = DataFrame(rf)"
      ],
      "execution_count": null,
      "outputs": []
    },
    {
      "cell_type": "code",
      "metadata": {
        "id": "HGHD2NuaUyzx",
        "colab_type": "code",
        "colab": {
          "base_uri": "https://localhost:8080/",
          "height": 195
        },
        "outputId": "6a464166-0eea-4a5d-919a-2f9187c842c1"
      },
      "source": [
        "## 8) 변수 영향력 도출 - RFE (recursive feature elimination), Backward 방식\n",
        "from sklearn.feature_selection import RFE\n",
        "\n",
        "select = RFE(RandomForestClassifier(n_estimators=100, random_state=42), n_features_to_select = 7)\n",
        "select.fit(X_dummy, y)\n",
        "\n",
        "feature_importance_rfe = pd.DataFrame(zip(X_dummy.columns.values, select.get_support()))\n",
        "feature_importance_rfe.columns = ['feature', 'importance']\n",
        "\n",
        "feature_importance_rfe.sort_values(by=\"importance\", ascending=False).head(5)"
      ],
      "execution_count": null,
      "outputs": [
        {
          "output_type": "execute_result",
          "data": {
            "text/html": [
              "<div>\n",
              "<style scoped>\n",
              "    .dataframe tbody tr th:only-of-type {\n",
              "        vertical-align: middle;\n",
              "    }\n",
              "\n",
              "    .dataframe tbody tr th {\n",
              "        vertical-align: top;\n",
              "    }\n",
              "\n",
              "    .dataframe thead th {\n",
              "        text-align: right;\n",
              "    }\n",
              "</style>\n",
              "<table border=\"1\" class=\"dataframe\">\n",
              "  <thead>\n",
              "    <tr style=\"text-align: right;\">\n",
              "      <th></th>\n",
              "      <th>feature</th>\n",
              "      <th>importance</th>\n",
              "    </tr>\n",
              "  </thead>\n",
              "  <tbody>\n",
              "    <tr>\n",
              "      <th>43</th>\n",
              "      <td>same_room_1</td>\n",
              "      <td>True</td>\n",
              "    </tr>\n",
              "    <tr>\n",
              "      <th>41</th>\n",
              "      <td>reservation_status_No-Show</td>\n",
              "      <td>True</td>\n",
              "    </tr>\n",
              "    <tr>\n",
              "      <th>40</th>\n",
              "      <td>reservation_status_Check-Out</td>\n",
              "      <td>True</td>\n",
              "    </tr>\n",
              "    <tr>\n",
              "      <th>39</th>\n",
              "      <td>reservation_status_Canceled</td>\n",
              "      <td>True</td>\n",
              "    </tr>\n",
              "    <tr>\n",
              "      <th>10</th>\n",
              "      <td>days_features_pca</td>\n",
              "      <td>True</td>\n",
              "    </tr>\n",
              "  </tbody>\n",
              "</table>\n",
              "</div>"
            ],
            "text/plain": [
              "                         feature  importance\n",
              "43                   same_room_1        True\n",
              "41    reservation_status_No-Show        True\n",
              "40  reservation_status_Check-Out        True\n",
              "39   reservation_status_Canceled        True\n",
              "10             days_features_pca        True"
            ]
          },
          "metadata": {
            "tags": []
          },
          "execution_count": 114
        }
      ]
    },
    {
      "cell_type": "code",
      "metadata": {
        "id": "X5AngE1Vh6D_",
        "colab_type": "code",
        "colab": {}
      },
      "source": [
        "rfe={'same_room_1':X_dummy['same_room_1'],'reservation_status_No-Show':X_dummy['reservation_status_No-Show'],\n",
        "     'reservation_status_Canceled':X_dummy['reservation_status_Canceled'],\n",
        "     'days_features_pca':X_dummy['days_features_pca'],'is_canceled': hotel['is_canceled']}\n",
        "rfe_df = DataFrame(rfe)"
      ],
      "execution_count": null,
      "outputs": []
    },
    {
      "cell_type": "code",
      "metadata": {
        "id": "DpDlgVK_ihYI",
        "colab_type": "code",
        "colab": {
          "base_uri": "https://localhost:8080/",
          "height": 210
        },
        "outputId": "8f751ea8-6e41-4941-f4ea-352da1089606"
      },
      "source": [
        "print(xgb_df.columns)\n",
        "print(lgbm_df.columns)\n",
        "print(rf_df.columns)\n",
        "print(rfe_df.columns)"
      ],
      "execution_count": null,
      "outputs": [
        {
          "output_type": "stream",
          "text": [
            "Index(['days_features_pca', 'adr', 'is_canceled'], dtype='object')\n",
            "Index(['arrival_date_week_number', 'adr', 'days_in_waiting_list',\n",
            "       'days_features_pca', 'booking_changes', 'is_canceled'],\n",
            "      dtype='object')\n",
            "Index(['reservation_status_Canceled', 'deposit_type_No Deposit',\n",
            "       'deposit_type_Non Refund', 'days_features_pca',\n",
            "       'total_of_special_requests', 'is_canceled'],\n",
            "      dtype='object')\n",
            "Index(['same_room_1', 'reservation_status_No-Show',\n",
            "       'reservation_status_Canceled', 'days_features_pca', 'is_canceled'],\n",
            "      dtype='object')\n"
          ],
          "name": "stdout"
        }
      ]
    },
    {
      "cell_type": "code",
      "metadata": {
        "id": "vCyVVlszjXtR",
        "colab_type": "code",
        "colab": {}
      },
      "source": [
        "selection ={'days_features_pca':X_dummy['days_features_pca'],\n",
        "            'adr':X_dummy['adr'], 'arrival_date_week_number':X_dummy['arrival_date_week_number'],\n",
        "           'days_in_waiting_list':X_dummy['days_in_waiting_list'], 'booking_changes':X_dummy['booking_changes'],\n",
        "            'reservation_status_Canceled':X_dummy['reservation_status_Canceled'],'deposit_type_No Deposit':X_dummy['deposit_type_No Deposit'],\n",
        "            'deposit_type_Non Refund':X_dummy['deposit_type_Non Refund'],'total_of_special_requests':X_dummy['total_of_special_requests'],\n",
        "            'same_room_1':X_dummy['same_room_1'], 'reservation_status_No-Show':X_dummy['reservation_status_No-Show'],\n",
        "            'is_canceled': hotel['is_canceled']}\n",
        "selection_df = DataFrame(selection)"
      ],
      "execution_count": null,
      "outputs": []
    },
    {
      "cell_type": "code",
      "metadata": {
        "id": "KrZsANJektsU",
        "colab_type": "code",
        "colab": {}
      },
      "source": [
        "# 변수선택으로 5가지 데이터셋 생성\n",
        "# xgb_df, lgbm_df, rf_df, rfe_df, selection_df\n",
        "# selection_df는 4가지 변수선택 방법으로 나온 변수들 모두 합친 데이터셋"
      ],
      "execution_count": null,
      "outputs": []
    },
    {
      "cell_type": "markdown",
      "metadata": {
        "id": "TbZK76oXaFqe",
        "colab_type": "text"
      },
      "source": [
        "### Modeling"
      ]
    },
    {
      "cell_type": "markdown",
      "metadata": {
        "id": "rUDmz1jVatKt",
        "colab_type": "text"
      },
      "source": [
        "*   LogisticRegression\n",
        "*   RandomForestClassifier\n",
        "*   LGBM\n",
        "\n",
        "\n",
        "\n",
        "\n"
      ]
    },
    {
      "cell_type": "markdown",
      "metadata": {
        "id": "0X2uWDRmmLNA",
        "colab_type": "text"
      },
      "source": [
        "##### xgb_df 데이터셋"
      ]
    },
    {
      "cell_type": "code",
      "metadata": {
        "id": "7WkmHlSdZ2Xz",
        "colab_type": "code",
        "colab": {}
      },
      "source": [
        "# data split\n",
        "xgb_df.columns\n",
        "y_xgb = xgb_df['is_canceled']\n",
        "X_xgb = xgb_df[['days_features_pca', 'adr']]\n",
        "\n",
        "X_xgb_train, X_xgb_test, y_xgb_train, y_xgb_test = train_test_split(X_xgb, y_xgb, test_size=0.2, random_state=42)"
      ],
      "execution_count": null,
      "outputs": []
    },
    {
      "cell_type": "code",
      "metadata": {
        "id": "9CXG5evcsz2q",
        "colab_type": "code",
        "colab": {
          "base_uri": "https://localhost:8080/",
          "height": 228
        },
        "outputId": "3003c471-973a-47bf-fb0f-19fccf6b4cba"
      },
      "source": [
        "## LogisicRegression\n",
        "# 모델 정확도 확인\n",
        "logrg = LogisticRegression(random_state=42)\n",
        "logrg.fit(X_xgb_train, y_xgb_train)\n",
        "# train score 확인\n",
        "print('Train data Score : %.2f' % logrg.score(X_xgb_train, y_xgb_train))\n",
        "\n",
        "# test score 확인\n",
        "logrg.fit(X_xgb_test, y_xgb_test)\n",
        "print('Test data Score : %.2f ' % logrg.score(X_xgb_test, y_xgb_test))\n",
        "\n",
        "# 성능평가\n",
        "y_pred=logrg.predict(X_xgb_test)\n",
        "print(\"Accuracy : \", accuracy_score(y_xgb_test, y_xgb_test))\n",
        "print(classification_report(y_xgb_test, y_pred))"
      ],
      "execution_count": null,
      "outputs": [
        {
          "output_type": "stream",
          "text": [
            "Train data Score : 0.71\n",
            "Test data Score : 0.70 \n",
            "Accuracy :  1.0\n",
            "              precision    recall  f1-score   support\n",
            "\n",
            "           0       0.72      0.87      0.79     14851\n",
            "           1       0.67      0.43      0.52      8929\n",
            "\n",
            "    accuracy                           0.70     23780\n",
            "   macro avg       0.69      0.65      0.65     23780\n",
            "weighted avg       0.70      0.70      0.69     23780\n",
            "\n"
          ],
          "name": "stdout"
        }
      ]
    },
    {
      "cell_type": "code",
      "metadata": {
        "id": "e3oGqfU2wTib",
        "colab_type": "code",
        "colab": {
          "base_uri": "https://localhost:8080/",
          "height": 210
        },
        "outputId": "6fcbb268-3faf-4927-bb58-bb2055bc5e85"
      },
      "source": [
        "## RandomForestClassifier\n",
        "rf = RandomForestClassifier(n_estimators=100, random_state=42)\n",
        "\n",
        "# 최적 파라미터 찾기\n",
        "param = {'max_depth':[5,6,7,8,9,10],\n",
        "         'n_estimators':[300,400,500]}\n",
        "grid = GridSearchCV(rf, param_grid=param,cv=3)\n",
        "grid.fit(X_xgb_train,y_xgb_train)\n",
        "grid.best_params_\n",
        "print('최적 파라미터 : ', grid.best_params_)\n",
        "\n",
        "# 성능 평가\n",
        "estimator = grid.best_estimator_\n",
        "y_pred = estimator.predict(X_xgb_test)\n",
        "print('테스트 데이트셋 정확도 : {0:.4f}'.format(accuracy_score(y_xgb_test, y_pred)))\n",
        "print(classification_report(y_xgb_test, y_pred))"
      ],
      "execution_count": null,
      "outputs": [
        {
          "output_type": "stream",
          "text": [
            "최적 파라미터 :  {'max_depth': 10, 'n_estimators': 300}\n",
            "테스트 데이트셋 정확도 : 0.7577\n",
            "              precision    recall  f1-score   support\n",
            "\n",
            "           0       0.74      0.94      0.83     14851\n",
            "           1       0.83      0.45      0.58      8929\n",
            "\n",
            "    accuracy                           0.76     23780\n",
            "   macro avg       0.78      0.70      0.71     23780\n",
            "weighted avg       0.77      0.76      0.74     23780\n",
            "\n"
          ],
          "name": "stdout"
        }
      ]
    },
    {
      "cell_type": "code",
      "metadata": {
        "id": "0RGWbS041vdw",
        "colab_type": "code",
        "colab": {
          "base_uri": "https://localhost:8080/",
          "height": 210
        },
        "outputId": "60405cda-0c4c-42d6-b94b-583c57cfbbc7"
      },
      "source": [
        "## LGBM\n",
        "lgb = LGBMClassifier(n_estimators=100,random_state=42)\n",
        "\n",
        "# 최적 파라미터 찾기\n",
        "param = {'learning_rate':[0.01, 0.05, 0.1, 0.2, 0.3],\n",
        "         'n_estimators':[200,300,400,500]}\n",
        "grid = GridSearchCV(lgb, param_grid=param,cv=3)\n",
        "grid.fit(X_xgb_train,y_xgb_train)\n",
        "grid.best_params_\n",
        "print('최적 파라미터 : ', grid.best_params_)\n",
        "\n",
        "# 성능 평가\n",
        "estimator = grid.best_estimator_\n",
        "y_pred = estimator.predict(X_xgb_test)\n",
        "print('테스트 데이트셋 정확도 : {0:.4f}'.format(accuracy_score(y_xgb_test, y_pred)))\n",
        "print(classification_report(y_xgb_test, y_pred))"
      ],
      "execution_count": null,
      "outputs": [
        {
          "output_type": "stream",
          "text": [
            "최적 파라미터 :  {'learning_rate': 0.2, 'n_estimators': 500}\n",
            "테스트 데이트셋 정확도 : 0.7990\n",
            "              precision    recall  f1-score   support\n",
            "\n",
            "           0       0.79      0.92      0.85     14851\n",
            "           1       0.82      0.60      0.69      8929\n",
            "\n",
            "    accuracy                           0.80     23780\n",
            "   macro avg       0.81      0.76      0.77     23780\n",
            "weighted avg       0.80      0.80      0.79     23780\n",
            "\n"
          ],
          "name": "stdout"
        }
      ]
    },
    {
      "cell_type": "markdown",
      "metadata": {
        "id": "oPFSBCeNmXly",
        "colab_type": "text"
      },
      "source": [
        "##### lgbm_df 데이터셋"
      ]
    },
    {
      "cell_type": "code",
      "metadata": {
        "id": "alM2NXj-mZVy",
        "colab_type": "code",
        "colab": {}
      },
      "source": [
        "# data split\n",
        "lgbm_df.columns\n",
        "y_lgbm = lgbm_df['is_canceled']\n",
        "X_lgbm = lgbm_df[['arrival_date_week_number', 'adr', 'days_in_waiting_list',\n",
        "       'days_features_pca', 'booking_changes']]\n",
        "\n",
        "X_lgbm_train, X_lgbm_test, y_lgbm_train, y_lgbm_test = train_test_split(X_lgbm, y_lgbm, test_size=0.2, random_state=42)"
      ],
      "execution_count": null,
      "outputs": []
    },
    {
      "cell_type": "code",
      "metadata": {
        "id": "iYvJLcqSWBzE",
        "colab_type": "code",
        "colab": {
          "base_uri": "https://localhost:8080/",
          "height": 228
        },
        "outputId": "6cd909ac-6265-4002-8dd0-96ddcb0a997b"
      },
      "source": [
        "## LogisicRegression\n",
        "# 모델 정확도 확인\n",
        "logrg = LogisticRegression(random_state=42)\n",
        "logrg.fit(X_lgbm_train, y_lgbm_train)\n",
        "# train score 확인\n",
        "print('Train data Score : %.2f' % logrg.score(X_lgbm_train, y_lgbm_train))\n",
        "\n",
        "# test score 확인\n",
        "logrg.fit(X_lgbm_test, y_lgbm_test)\n",
        "print('Test data Score : %.2f ' % logrg.score(X_lgbm_test, y_lgbm_test))\n",
        "\n",
        "# 성능평가\n",
        "y_pred=logrg.predict(X_lgbm_test)\n",
        "print(\"Accuracy : \", accuracy_score(y_lgbm_test, y_pred))\n",
        "print(classification_report(y_lgbm_test, y_pred))"
      ],
      "execution_count": null,
      "outputs": [
        {
          "output_type": "stream",
          "text": [
            "Train data Score : 0.72\n",
            "Test data Score : 0.71 \n",
            "Accuracy :  0.714592094196804\n",
            "              precision    recall  f1-score   support\n",
            "\n",
            "           0       0.73      0.87      0.79     14851\n",
            "           1       0.68      0.45      0.54      8929\n",
            "\n",
            "    accuracy                           0.71     23780\n",
            "   macro avg       0.70      0.66      0.67     23780\n",
            "weighted avg       0.71      0.71      0.70     23780\n",
            "\n"
          ],
          "name": "stdout"
        }
      ]
    },
    {
      "cell_type": "code",
      "metadata": {
        "id": "z1bhgAhPzuck",
        "colab_type": "code",
        "colab": {
          "base_uri": "https://localhost:8080/",
          "height": 210
        },
        "outputId": "4e65680a-1e84-4ced-ab5b-4b58265bf6e4"
      },
      "source": [
        "## RandomForestClassifier\n",
        "rf = RandomForestClassifier(n_estimators=100, random_state=42)\n",
        "\n",
        "# 최적 파라미터 찾기\n",
        "param = {'max_depth':[5,6,7,8,9,10],\n",
        "         'n_estimators':[300,400,500]}\n",
        "grid = GridSearchCV(rf, param_grid=param,cv=3)\n",
        "grid.fit(X_lgbm_train,y_lgbm_train)\n",
        "grid.best_params_\n",
        "print('최적 파라미터 : ', grid.best_params_)\n",
        "\n",
        "# 성능 평가\n",
        "estimator = grid.best_estimator_\n",
        "y_pred = estimator.predict(X_lgbm_test)\n",
        "print('테스트 데이트셋 정확도 : {0:.4f}'.format(accuracy_score(y_lgbm_test, y_pred)))\n",
        "print(classification_report(y_lgbm_test, y_pred))"
      ],
      "execution_count": null,
      "outputs": [
        {
          "output_type": "stream",
          "text": [
            "최적 파라미터 :  {'max_depth': 10, 'n_estimators': 300}\n",
            "테스트 데이트셋 정확도 : 0.7758\n",
            "              precision    recall  f1-score   support\n",
            "\n",
            "           0       0.76      0.94      0.84     14851\n",
            "           1       0.83      0.51      0.63      8929\n",
            "\n",
            "    accuracy                           0.78     23780\n",
            "   macro avg       0.79      0.72      0.73     23780\n",
            "weighted avg       0.79      0.78      0.76     23780\n",
            "\n"
          ],
          "name": "stdout"
        }
      ]
    },
    {
      "cell_type": "code",
      "metadata": {
        "id": "ahm3wxXWzuQv",
        "colab_type": "code",
        "colab": {
          "base_uri": "https://localhost:8080/",
          "height": 210
        },
        "outputId": "306be9a1-a596-4121-9b82-f65327aba50b"
      },
      "source": [
        "## LGBM\n",
        "lgb = LGBMClassifier(n_estimators=100,random_state=42)\n",
        "\n",
        "# 최적 파라미터 찾기\n",
        "param = {'learning_rate':[0.01, 0.05, 0.1, 0.2, 0.3],\n",
        "         'n_estimators':[200,300,400,500]}\n",
        "grid = GridSearchCV(lgb, param_grid=param,cv=3)\n",
        "grid.fit(X_lgbm_train,y_lgbm_train)\n",
        "grid.best_params_\n",
        "print('최적 파라미터 : ', grid.best_params_)\n",
        "\n",
        "# 성능 평가\n",
        "estimator = grid.best_estimator_\n",
        "y_pred = estimator.predict(X_lgbm_test)\n",
        "print('테스트 데이트셋 정확도 : {0:.4f}'.format(accuracy_score(y_lgbm_test, y_pred)))\n",
        "print(classification_report(y_lgbm_test, y_pred))"
      ],
      "execution_count": null,
      "outputs": [
        {
          "output_type": "stream",
          "text": [
            "최적 파라미터 :  {'learning_rate': 0.3, 'n_estimators': 500}\n",
            "테스트 데이트셋 정확도 : 0.8324\n",
            "              precision    recall  f1-score   support\n",
            "\n",
            "           0       0.83      0.92      0.87     14851\n",
            "           1       0.84      0.68      0.75      8929\n",
            "\n",
            "    accuracy                           0.83     23780\n",
            "   macro avg       0.84      0.80      0.81     23780\n",
            "weighted avg       0.83      0.83      0.83     23780\n",
            "\n"
          ],
          "name": "stdout"
        }
      ]
    },
    {
      "cell_type": "markdown",
      "metadata": {
        "id": "oE5MIAhbmZu1",
        "colab_type": "text"
      },
      "source": [
        "##### rf_df 데이터셋"
      ]
    },
    {
      "cell_type": "code",
      "metadata": {
        "id": "oUyDfysCmcu3",
        "colab_type": "code",
        "colab": {}
      },
      "source": [
        "# data split\n",
        "# 'reservation_status_Canceled' 이 변수 때문에 과적합 => 빼고 진행\n",
        "rf_df.columns\n",
        "y_rf = rf_df['is_canceled']\n",
        "X_rf = rf_df[['deposit_type_No Deposit', 'deposit_type_Non Refund','days_features_pca', 'total_of_special_requests']]\n",
        "\n",
        "X_rf_train, X_rf_test, y_rf_train, y_rf_test = train_test_split(X_rf, y_rf, test_size=0.2, random_state=42)"
      ],
      "execution_count": null,
      "outputs": []
    },
    {
      "cell_type": "code",
      "metadata": {
        "id": "ZGYbSH1ZXWFr",
        "colab_type": "code",
        "colab": {
          "base_uri": "https://localhost:8080/",
          "height": 228
        },
        "outputId": "d24e4d70-2a0c-4b53-89b9-a9db2c73efaa"
      },
      "source": [
        "## LogisicRegression\n",
        "# 모델 정확도 확인\n",
        "logrg = LogisticRegression(random_state=42)\n",
        "logrg.fit(X_rf_train, y_rf_train)\n",
        "# train score 확인\n",
        "print('Train data Score : %.2f' % logrg.score(X_rf_train, y_rf_train))\n",
        "\n",
        "# test score 확인\n",
        "logrg.fit(X_rf_test, y_rf_test)\n",
        "print('Test data Score : %.2f ' % logrg.score(X_rf_test, y_rf_test))\n",
        "\n",
        "# 성능평가\n",
        "y_pred=logrg.predict(X_rf_test)\n",
        "print(\"Accuracy : \", accuracy_score(y_rf_test,y_pred))\n",
        "print(classification_report(y_rf_test, y_pred))"
      ],
      "execution_count": null,
      "outputs": [
        {
          "output_type": "stream",
          "text": [
            "Train data Score : 0.76\n",
            "Test data Score : 0.76 \n",
            "Accuracy :  0.761354079058032\n",
            "              precision    recall  f1-score   support\n",
            "\n",
            "           0       0.74      0.95      0.83     14851\n",
            "           1       0.83      0.46      0.59      8929\n",
            "\n",
            "    accuracy                           0.76     23780\n",
            "   macro avg       0.79      0.70      0.71     23780\n",
            "weighted avg       0.78      0.76      0.74     23780\n",
            "\n"
          ],
          "name": "stdout"
        }
      ]
    },
    {
      "cell_type": "code",
      "metadata": {
        "id": "MBHFfJjfXbQW",
        "colab_type": "code",
        "colab": {
          "base_uri": "https://localhost:8080/",
          "height": 210
        },
        "outputId": "0c2f5959-70a7-451e-c07c-90d091d52f41"
      },
      "source": [
        "## RandomForestClassifier\n",
        "rf = RandomForestClassifier(n_estimators=100, random_state=42)\n",
        "\n",
        "# 최적 파라미터 찾기\n",
        "param = {'max_depth':[3,5,7],\n",
        "         'n_estimators':[100,300,500]}\n",
        "grid = GridSearchCV(rf, param_grid=param,cv=3)\n",
        "grid.fit(X_rf_train,y_rf_train)\n",
        "grid.best_params_\n",
        "print('최적 파라미터 : ', grid.best_params_)\n",
        "\n",
        "# 성능 평가\n",
        "estimator = grid.best_estimator_\n",
        "y_pred = estimator.predict(X_rf_test)\n",
        "print('테스트 데이트셋 정확도 : {0:.4f}'.format(accuracy_score(y_rf_test, y_pred)))\n",
        "print(classification_report(y_rf_test, y_pred))"
      ],
      "execution_count": null,
      "outputs": [
        {
          "output_type": "stream",
          "text": [
            "최적 파라미터 :  {'max_depth': 10, 'n_estimators': 300}\n",
            "테스트 데이트셋 정확도 : 0.7846\n",
            "              precision    recall  f1-score   support\n",
            "\n",
            "           0       0.76      0.97      0.85     14851\n",
            "           1       0.90      0.48      0.63      8929\n",
            "\n",
            "    accuracy                           0.78     23780\n",
            "   macro avg       0.83      0.72      0.74     23780\n",
            "weighted avg       0.81      0.78      0.77     23780\n",
            "\n"
          ],
          "name": "stdout"
        }
      ]
    },
    {
      "cell_type": "code",
      "metadata": {
        "id": "xIW1xoBfXbGi",
        "colab_type": "code",
        "colab": {
          "base_uri": "https://localhost:8080/",
          "height": 210
        },
        "outputId": "36cc52f4-cf9e-4055-d112-13a83fe50cfc"
      },
      "source": [
        "## LGBM\n",
        "lgb = LGBMClassifier(n_estimators=100,random_state=42)\n",
        "\n",
        "# 최적 파라미터 찾기\n",
        "param = {'learning_rate':[0.01, 0.05, 0.1, 0.2, 0.3],\n",
        "         'n_estimators':[200,300,400,500]}\n",
        "grid = GridSearchCV(lgb, param_grid=param,cv=3)\n",
        "grid.fit(X_rf_train,y_rf_train)\n",
        "grid.best_params_\n",
        "print('최적 파라미터 : ', grid.best_params_)\n",
        "\n",
        "# 성능 평가\n",
        "estimator = grid.best_estimator_\n",
        "y_pred = estimator.predict(X_rf_test)\n",
        "print('테스트 데이트셋 정확도 : {0:.4f}'.format(accuracy_score(y_rf_test, y_pred)))\n",
        "print(classification_report(y_rf_test, y_pred))"
      ],
      "execution_count": null,
      "outputs": [
        {
          "output_type": "stream",
          "text": [
            "최적 파라미터 :  {'learning_rate': 0.05, 'n_estimators': 300}\n",
            "테스트 데이트셋 정확도 : 0.7731\n",
            "              precision    recall  f1-score   support\n",
            "\n",
            "           0       0.75      0.95      0.84     14851\n",
            "           1       0.85      0.48      0.61      8929\n",
            "\n",
            "    accuracy                           0.77     23780\n",
            "   macro avg       0.80      0.71      0.73     23780\n",
            "weighted avg       0.79      0.77      0.75     23780\n",
            "\n"
          ],
          "name": "stdout"
        }
      ]
    },
    {
      "cell_type": "markdown",
      "metadata": {
        "id": "URbA0MLlmdF5",
        "colab_type": "text"
      },
      "source": [
        "##### rfe_df 데이터셋"
      ]
    },
    {
      "cell_type": "code",
      "metadata": {
        "id": "lt_5ZoC9meq3",
        "colab_type": "code",
        "colab": {}
      },
      "source": [
        "# data split\n",
        "rfe_df.columns\n",
        "y_rfe = rfe_df['is_canceled']\n",
        "X_rfe = rfe_df[['same_room_1', 'reservation_status_No-Show','days_features_pca']]\n",
        "\n",
        "X_rfe_train, X_rfe_test, y_rfe_train, y_rfe_test = train_test_split(X_rfe, y_rfe, test_size=0.2, random_state=42)"
      ],
      "execution_count": null,
      "outputs": []
    },
    {
      "cell_type": "code",
      "metadata": {
        "id": "IrizADPXYof3",
        "colab_type": "code",
        "colab": {
          "base_uri": "https://localhost:8080/",
          "height": 228
        },
        "outputId": "5e1e5892-bd7d-4f7b-e04e-b01efabcb89f"
      },
      "source": [
        "## LogisicRegression\n",
        "# 모델 정확도 확인\n",
        "logrg = LogisticRegression(random_state=42)\n",
        "logrg.fit(X_rfe_train, y_rfe_train)\n",
        "# train score 확인\n",
        "print('Train data Score : %.2f' % logrg.score(X_rfe_train, y_rfe_train))\n",
        "\n",
        "# test score 확인\n",
        "logrg.fit(X_rfe_test, y_rfe_test)\n",
        "print('Test data Score : %.2f ' % logrg.score(X_rfe_test, y_rfe_test))\n",
        "\n",
        "# 성능평가\n",
        "y_pred=logrg.predict(X_rfe_test)\n",
        "print(\"Accuracy : \", accuracy_score(y_rfe_test, y_pred))\n",
        "print(classification_report(y_rfe_test, y_pred))"
      ],
      "execution_count": null,
      "outputs": [
        {
          "output_type": "stream",
          "text": [
            "Train data Score : 0.72\n",
            "Test data Score : 0.72 \n",
            "Accuracy :  0.7207737594617325\n",
            "              precision    recall  f1-score   support\n",
            "\n",
            "           0       0.73      0.87      0.80     14851\n",
            "           1       0.69      0.47      0.56      8929\n",
            "\n",
            "    accuracy                           0.72     23780\n",
            "   macro avg       0.71      0.67      0.68     23780\n",
            "weighted avg       0.72      0.72      0.71     23780\n",
            "\n"
          ],
          "name": "stdout"
        }
      ]
    },
    {
      "cell_type": "code",
      "metadata": {
        "id": "5wa1yH8JYoc3",
        "colab_type": "code",
        "colab": {
          "base_uri": "https://localhost:8080/",
          "height": 210
        },
        "outputId": "806a703e-4400-426c-ff3e-846f3d2a4b9a"
      },
      "source": [
        "## RandomForestClassifier\n",
        "rf = RandomForestClassifier(n_estimators=100, random_state=42)\n",
        "\n",
        "# 최적 파라미터 찾기\n",
        "param = {'max_depth':[5,6,7,8,9,10],\n",
        "         'n_estimators':[100,300,500]}\n",
        "grid = GridSearchCV(rf, param_grid=param,cv=3)\n",
        "grid.fit(X_rfe_train,y_rfe_train)\n",
        "grid.best_params_\n",
        "print('최적 파라미터 : ', grid.best_params_)\n",
        "\n",
        "# 성능 평가\n",
        "estimator = grid.best_estimator_\n",
        "y_pred = estimator.predict(X_rfe_test)\n",
        "print('테스트 데이트셋 정확도 : {0:.4f}'.format(accuracy_score(y_rfe_test, y_pred)))\n",
        "print(classification_report(y_rfe_test, y_pred))"
      ],
      "execution_count": null,
      "outputs": [
        {
          "output_type": "stream",
          "text": [
            "최적 파라미터 :  {'max_depth': 10, 'n_estimators': 500}\n",
            "테스트 데이트셋 정확도 : 0.7526\n",
            "              precision    recall  f1-score   support\n",
            "\n",
            "           0       0.74      0.93      0.82     14851\n",
            "           1       0.80      0.45      0.58      8929\n",
            "\n",
            "    accuracy                           0.75     23780\n",
            "   macro avg       0.77      0.69      0.70     23780\n",
            "weighted avg       0.76      0.75      0.73     23780\n",
            "\n"
          ],
          "name": "stdout"
        }
      ]
    },
    {
      "cell_type": "code",
      "metadata": {
        "id": "Sis6ZcvNYoaD",
        "colab_type": "code",
        "colab": {
          "base_uri": "https://localhost:8080/",
          "height": 210
        },
        "outputId": "d36f0146-0b4d-4d26-9832-e5758a95a0de"
      },
      "source": [
        "## LGBM\n",
        "lgb = LGBMClassifier(n_estimators=100,random_state=42)\n",
        "\n",
        "# 최적 파라미터 찾기\n",
        "param = {'learning_rate':[0.01, 0.05, 0.1, 0.2, 0.3],\n",
        "         'n_estimators':[200,300,400,500]}\n",
        "grid = GridSearchCV(lgb, param_grid=param,cv=3)\n",
        "grid.fit(X_rfe_train,y_rfe_train)\n",
        "grid.best_params_\n",
        "print('최적 파라미터 : ', grid.best_params_)\n",
        "\n",
        "# 성능 평가\n",
        "estimator = grid.best_estimator_\n",
        "y_pred = estimator.predict(X_rfe_test)\n",
        "print('테스트 데이트셋 정확도 : {0:.4f}'.format(accuracy_score(y_rfe_test, y_pred)))\n",
        "print(classification_report(y_rfe_test, y_pred))"
      ],
      "execution_count": null,
      "outputs": [
        {
          "output_type": "stream",
          "text": [
            "최적 파라미터 :  {'learning_rate': 0.05, 'n_estimators': 500}\n",
            "테스트 데이트셋 정확도 : 0.7391\n",
            "              precision    recall  f1-score   support\n",
            "\n",
            "           0       0.75      0.86      0.81     14851\n",
            "           1       0.70      0.53      0.60      8929\n",
            "\n",
            "    accuracy                           0.74     23780\n",
            "   macro avg       0.73      0.70      0.70     23780\n",
            "weighted avg       0.73      0.74      0.73     23780\n",
            "\n"
          ],
          "name": "stdout"
        }
      ]
    },
    {
      "cell_type": "markdown",
      "metadata": {
        "id": "UISef9jBmfDV",
        "colab_type": "text"
      },
      "source": [
        "##### selection_df 데이터셋\n"
      ]
    },
    {
      "cell_type": "code",
      "metadata": {
        "id": "yfDCokWHmhAl",
        "colab_type": "code",
        "colab": {}
      },
      "source": [
        "# data split\n",
        "selection_df.columns\n",
        "y_sel = selection_df['is_canceled']\n",
        "X_sel = selection_df[[ 'days_features_pca', 'adr',\n",
        "       'arrival_date_week_number', 'days_in_waiting_list', 'booking_changes',\n",
        "      'deposit_type_No Deposit','deposit_type_Non Refund',\n",
        "      'total_of_special_requests', 'same_room_1','reservation_status_No-Show']]\n",
        "\n",
        "X_sel_train, X_sel_test, y_sel_train, y_sel_test = train_test_split(X_sel, y_sel, test_size=0.2, random_state=42)"
      ],
      "execution_count": null,
      "outputs": []
    },
    {
      "cell_type": "code",
      "metadata": {
        "id": "qdN0ccn68rB9",
        "colab_type": "code",
        "colab": {
          "base_uri": "https://localhost:8080/",
          "height": 228
        },
        "outputId": "d86c73c0-8652-41c2-ba9a-bf1f9a0f3d36"
      },
      "source": [
        "## LogisicRegression\n",
        "# 모델 정확도 확인\n",
        "logrg = LogisticRegression(random_state=5)\n",
        "logrg.fit(X_sel_train, y_sel_train)\n",
        "# train score 확인\n",
        "print('Train data Score : %.2f' % logrg.score(X_sel_train, y_sel_train))\n",
        "\n",
        "# test score 확인\n",
        "logrg.fit(X_sel_test, y_sel_test)\n",
        "print('Test data Score : %.2f ' % logrg.score(X_sel_test, y_sel_test))\n",
        "\n",
        "# 성능평가\n",
        "y_pred=logrg.predict(X_sel_test)\n",
        "print(\"Accuracy : \", accuracy_score(y_sel_test,y_pred))\n",
        "print(classification_report(y_sel_test, y_pred))"
      ],
      "execution_count": null,
      "outputs": [
        {
          "output_type": "stream",
          "text": [
            "Train data Score : 0.78\n",
            "Test data Score : 0.78 \n",
            "Accuracy :  0.7822960470984021\n",
            "              precision    recall  f1-score   support\n",
            "\n",
            "           0       0.77      0.93      0.84     14851\n",
            "           1       0.82      0.54      0.65      8929\n",
            "\n",
            "    accuracy                           0.78     23780\n",
            "   macro avg       0.79      0.73      0.75     23780\n",
            "weighted avg       0.79      0.78      0.77     23780\n",
            "\n"
          ],
          "name": "stdout"
        }
      ]
    },
    {
      "cell_type": "code",
      "metadata": {
        "id": "gv-3WOsYATdE",
        "colab_type": "code",
        "colab": {
          "base_uri": "https://localhost:8080/",
          "height": 210
        },
        "outputId": "faafdce5-fe2d-4227-fd7e-307678cfca0a"
      },
      "source": [
        "## RandomForestClassifier\n",
        "rf = RandomForestClassifier(n_estimators=100, random_state=42)\n",
        "\n",
        "# 최적 파라미터 찾기\n",
        "param = {'max_depth':[3,5,7,],\n",
        "         'n_estimators':[300,400,500]}\n",
        "grid = GridSearchCV(rf, param_grid=param,cv=3)\n",
        "grid.fit(X_sel_train,y_sel_train)\n",
        "grid.best_params_\n",
        "print('최적 파라미터 : ', grid.best_params_)\n",
        "\n",
        "# 성능 평가\n",
        "estimator = grid.best_estimator_\n",
        "y_pred = estimator.predict(X_sel_test)\n",
        "print('테스트 데이트셋 정확도 : {0:.4f}'.format(accuracy_score(y_sel_test, y_pred)))\n",
        "print(classification_report(y_sel_test, y_pred))"
      ],
      "execution_count": null,
      "outputs": [
        {
          "output_type": "stream",
          "text": [
            "최적 파라미터 :  {'max_depth': 10, 'n_estimators': 300}\n",
            "테스트 데이트셋 정확도 : 0.8109\n",
            "              precision    recall  f1-score   support\n",
            "\n",
            "           0       0.80      0.94      0.86     14851\n",
            "           1       0.85      0.60      0.71      8929\n",
            "\n",
            "    accuracy                           0.81     23780\n",
            "   macro avg       0.82      0.77      0.78     23780\n",
            "weighted avg       0.82      0.81      0.80     23780\n",
            "\n"
          ],
          "name": "stdout"
        }
      ]
    },
    {
      "cell_type": "code",
      "metadata": {
        "id": "99c75HBp_-T-",
        "colab_type": "code",
        "colab": {
          "base_uri": "https://localhost:8080/",
          "height": 210
        },
        "outputId": "331b3371-2120-4da5-fca7-8a5915471653"
      },
      "source": [
        "## LGBM\n",
        "lgb = LGBMClassifier(n_estimators=100,random_state=42)\n",
        "\n",
        "# 최적 파라미터 찾기\n",
        "param = {'learning_rate':[0.01, 0.05, 0.1, 0.2, 0.3],\n",
        "         'n_estimators':[200,300,400,500]}\n",
        "grid = GridSearchCV(lgb, param_grid=param,cv=3)\n",
        "grid.fit(X_sel_train,y_sel_train)\n",
        "grid.best_params_\n",
        "print('최적 파라미터 : ', grid.best_params_)\n",
        "\n",
        "# 성능 평가\n",
        "estimator = grid.best_estimator_\n",
        "y_pred = estimator.predict(X_sel_test)\n",
        "print('테스트 데이트셋 정확도 : {0:.4f}'.format(accuracy_score(y_sel_test, y_pred)))\n",
        "print(classification_report(y_sel_test, y_pred))"
      ],
      "execution_count": null,
      "outputs": [
        {
          "output_type": "stream",
          "text": [
            "최적 파라미터 :  {'learning_rate': 0.3, 'n_estimators': 500}\n",
            "테스트 데이트셋 정확도 : 0.8579\n",
            "              precision    recall  f1-score   support\n",
            "\n",
            "           0       0.86      0.93      0.89     14851\n",
            "           1       0.86      0.74      0.80      8929\n",
            "\n",
            "    accuracy                           0.86     23780\n",
            "   macro avg       0.86      0.84      0.84     23780\n",
            "weighted avg       0.86      0.86      0.86     23780\n",
            "\n"
          ],
          "name": "stdout"
        }
      ]
    },
    {
      "cell_type": "code",
      "metadata": {
        "id": "GyNAp2ZxAgSb",
        "colab_type": "code",
        "colab": {}
      },
      "source": [
        ""
      ],
      "execution_count": null,
      "outputs": []
    }
  ]
}